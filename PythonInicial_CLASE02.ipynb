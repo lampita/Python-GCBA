{
  "cells": [
    {
      "cell_type": "markdown",
      "metadata": {
        "id": "8Htqd9DW-pY7"
      },
      "source": [
        "# 🎓 Clase 2 - Variables y Entrada/Salida en Python\n",
        "\n",
        "En esta clase vas a conocer uno de los conceptos más importantes de la programación: las **variables**.\n",
        "\n",
        "También vas a aprender a:\n",
        "- Recibir datos desde el teclado con `input()`.\n",
        "- Mostrar resultados en pantalla con `print()`.\n",
        "- Usar distintos **tipos de datos**: números, texto, booleanos.\n",
        "- Realizar operaciones con números usando **operadores aritméticos**.\n",
        "- Aplicar el modelo Entrada → Proceso → Salida.\n",
        "\n",
        "Este cuaderno es tu espacio para experimentar. Cada bloque de código puede ser modificado y ejecutado para ver cómo funciona. ¡Animate a probar cosas nuevas!\n",
        "\n"
      ]
    },
    {
      "cell_type": "code",
      "execution_count": 1,
      "metadata": {
        "colab": {
          "base_uri": "https://localhost:8080/"
        },
        "id": "d5MJ74-y-lIH",
        "outputId": "c148b810-5812-452f-ee74-0b99b7671eb9"
      },
      "outputs": [
        {
          "name": "stdout",
          "output_type": "stream",
          "text": [
            "Nombre: Mariana\n",
            "Edad: 30\n",
            "Altura: 1.68\n",
            "¿Es estudiante?: True\n"
          ]
        }
      ],
      "source": [
        "# Declaramos algunas variables y mostramos su contenido\n",
        "\n",
        "nombre = \"Mariana\"\n",
        "edad = 30\n",
        "altura = 1.68\n",
        "es_estudiante = True\n",
        "\n",
        "print(\"Nombre:\", nombre)\n",
        "print(\"Edad:\", edad)\n",
        "print(\"Altura:\", altura)\n",
        "print(\"¿Es estudiante?:\", es_estudiante)\n"
      ]
    },
    {
      "cell_type": "markdown",
      "metadata": {
        "id": "GIHuOpIy_YZK"
      },
      "source": [
        "💡 En este bloque creamos cuatro variables:\n",
        "- `nombre` almacena una **cadena de texto** (`str`)\n",
        "- `edad` almacena un **número entero** (`int`)\n",
        "- `altura` almacena un **número decimal** (`float`)\n",
        "- `es_estudiante` almacena un **valor lógico** (`bool`)\n",
        "\n",
        "👉 Estas variables representan distintos **tipos de datos simples**, que vamos a usar todo el tiempo.\n",
        "\n",
        "Podés cambiar los valores por los tuyos y volver a ejecutar el código para probar.\n",
        "\n",
        "🎯 Siguiente paso: usar `type()` para verificar qué tipo de dato tiene cada variable.\n"
      ]
    },
    {
      "cell_type": "code",
      "execution_count": 2,
      "metadata": {
        "colab": {
          "base_uri": "https://localhost:8080/"
        },
        "id": "WPpAmxlM_qG9",
        "outputId": "7d638f71-be33-4163-d4e7-4d0c017d245c"
      },
      "outputs": [
        {
          "name": "stdout",
          "output_type": "stream",
          "text": [
            "El tipo de 'nombre' es: <class 'str'>\n",
            "El tipo de 'edad' es: <class 'int'>\n",
            "El tipo de 'altura' es: <class 'float'>\n",
            "El tipo de 'es_estudiante' es: <class 'bool'>\n"
          ]
        }
      ],
      "source": [
        "# Usamos type() para identificar el tipo de cada variable\n",
        "\n",
        "print(\"El tipo de 'nombre' es:\", type(nombre))\n",
        "print(\"El tipo de 'edad' es:\", type(edad))\n",
        "print(\"El tipo de 'altura' es:\", type(altura))\n",
        "print(\"El tipo de 'es_estudiante' es:\", type(es_estudiante))\n"
      ]
    },
    {
      "cell_type": "markdown",
      "metadata": {
        "id": "vcBbhaa2_wEB"
      },
      "source": [
        "💡 La función `type()` te muestra qué tipo de dato tiene una variable:\n",
        "\n",
        "- `str` → texto o cadena de caracteres\n",
        "- `int` → número entero\n",
        "- `float` → número con decimales\n",
        "- `bool` → valor lógico (True o False)\n",
        "\n",
        "Esto es útil para entender cómo Python \"ve\" cada valor y evitar errores, especialmente cuando trabajamos con datos ingresados por el usuario.\n",
        "\n",
        "🎯 Ahora pasamos a la función `input()`, que nos permite pedir datos desde el teclado.\n"
      ]
    },
    {
      "cell_type": "code",
      "execution_count": 4,
      "metadata": {
        "colab": {
          "base_uri": "https://localhost:8080/"
        },
        "id": "1i8TT8fPADBP",
        "outputId": "64edceff-44a6-4ba8-b9c4-6634a76f6068"
      },
      "outputs": [
        {
          "name": "stdout",
          "output_type": "stream",
          "text": [
            "¿Cómo te llamás? 234\n",
            "¡Hola, 234!\n"
          ]
        }
      ],
      "source": [
        "# Solicitamos un dato al usuario\n",
        "\n",
        "nombre_usuario = input(\"¿Cómo te llamás? \")\n",
        "\n",
        "print(\"¡Hola,\", nombre_usuario + \"!\")\n"
      ]
    },
    {
      "cell_type": "markdown",
      "metadata": {
        "id": "4zJW5WIZAH_I"
      },
      "source": [
        "💡 La función `input()` permite que la persona que ejecuta el programa escriba un dato.\n",
        "\n",
        "Este dato se guarda en una variable (en este caso, `nombre_usuario`), y luego lo usamos con `print()` para mostrar un saludo.\n",
        "\n",
        "📌 Importante: **todo lo que se ingresa por `input()` se guarda como texto (str)**, incluso si parece un número.\n",
        "\n",
        "✏️ Probá escribir tu nombre, y luego ejecutá el bloque. Después, volvé a correrlo escribiendo un número en lugar del nombre. ¿Qué pasa?\n"
      ]
    },
    {
      "cell_type": "code",
      "execution_count": 5,
      "metadata": {
        "colab": {
          "base_uri": "https://localhost:8080/"
        },
        "id": "-f5mep3TAWs8",
        "outputId": "d4242cff-90f1-44c4-d51b-03aeb8c8c3e9"
      },
      "outputs": [
        {
          "name": "stdout",
          "output_type": "stream",
          "text": [
            "Ingresá algo (un número o una palabra): 123\n",
            "Ingresaste: 123\n",
            "Python lo interpreta como: <class 'str'>\n"
          ]
        }
      ],
      "source": [
        "# Probamos qué tipo de dato devuelve input()\n",
        "\n",
        "dato_ingresado = input(\"Ingresá algo (un número o una palabra): \")\n",
        "\n",
        "print(\"Ingresaste:\", dato_ingresado)\n",
        "print(\"Python lo interpreta como:\", type(dato_ingresado))\n"
      ]
    },
    {
      "cell_type": "markdown",
      "metadata": {
        "id": "66ZOmJUcAZ9m"
      },
      "source": [
        "📌 Aunque escribas algo que parece un número (como `42` o `3.14`), `input()` siempre guarda el resultado como texto, o sea, tipo `str`.\n",
        "\n",
        "🧠 Esto es muy importante: **si querés hacer cuentas con lo que ingresaste, primero hay que convertirlo a número**.\n",
        "\n",
        "🎯 Ahora vamos a ver cómo transformar ese texto en un `int` (entero) o un `float` (decimal), según lo que necesitemos.\n"
      ]
    },
    {
      "cell_type": "code",
      "execution_count": 6,
      "metadata": {
        "colab": {
          "base_uri": "https://localhost:8080/"
        },
        "id": "st-Y7lbrAr4i",
        "outputId": "2323ef17-6c31-45d3-ad47-02519cb1c76c"
      },
      "outputs": [
        {
          "name": "stdout",
          "output_type": "stream",
          "text": [
            "¿Cuántos años tenés? 12\n",
            "El año que viene vas a tener 13 años.\n"
          ]
        }
      ],
      "source": [
        "# Convertimos el dato ingresado a un número entero (int)\n",
        "\n",
        "edad_texto = input(\"¿Cuántos años tenés? \")\n",
        "\n",
        "edad = int(edad_texto)\n",
        "\n",
        "print(\"El año que viene vas a tener\", edad + 1, \"años.\")\n"
      ]
    },
    {
      "cell_type": "markdown",
      "metadata": {
        "id": "mXbQbH-pAvju"
      },
      "source": [
        "💬 Fijate lo que hicimos:\n",
        "- Primero usamos `input()` para pedir la edad (recordá que esto devuelve un texto).\n",
        "- Después usamos `int()` para **convertir ese texto a número entero**.\n",
        "- Por último, hicimos una suma (`edad + 1`) y mostramos el resultado.\n",
        "\n",
        "⚠️ Si ingresás un texto que **no es un número**, vas a obtener un error. Más adelante aprenderemos a manejar esos casos con validaciones.\n"
      ]
    },
    {
      "cell_type": "code",
      "execution_count": 7,
      "metadata": {
        "colab": {
          "base_uri": "https://localhost:8080/"
        },
        "id": "IXKlP1oAA1bu",
        "outputId": "a154af09-d5ec-4475-8f98-9cca074d5c78"
      },
      "outputs": [
        {
          "name": "stdout",
          "output_type": "stream",
          "text": [
            "¿Cuál es tu altura en metros? (por ejemplo: 1.75) 1.75\n",
            "Tu altura más un centímetro es: 1.76 metros.\n"
          ]
        }
      ],
      "source": [
        "# Convertimos el dato ingresado a un número decimal (float)\n",
        "\n",
        "altura_texto = input(\"¿Cuál es tu altura en metros? (por ejemplo: 1.75) \")\n",
        "\n",
        "altura = float(altura_texto)\n",
        "\n",
        "print(\"Tu altura más un centímetro es:\", altura + 0.01, \"metros.\")\n"
      ]
    },
    {
      "cell_type": "markdown",
      "metadata": {
        "id": "w6bQlrI0A4mr"
      },
      "source": [
        "🔍 `float()` sirve para convertir texto en un número **con decimales**.\n",
        "\n",
        "Este tipo de datos es útil cuando trabajamos con precios, medidas o porcentajes.\n",
        "\n",
        "Probá ingresar distintos valores y observá cómo cambia la salida. Si ingresás un número sin el punto (como `1`), Python también lo interpreta correctamente como `1.0`.\n"
      ]
    },
    {
      "cell_type": "code",
      "execution_count": null,
      "metadata": {
        "id": "IDjYXjkIDZfQ"
      },
      "outputs": [],
      "source": [
        "# Solicitamos y almacenamos los datos del usuario\n",
        "\n",
        "nombre = input(\"Ingresá tu nombre: \")\n",
        "apellido = input(\"Ingresá tu apellido: \")\n",
        "edad = int(input(\"Ingresá tu edad: \"))\n",
        "email = input(\"Ingresá tu correo electrónico: \")\n",
        "\n",
        "# Mostramos los datos de forma organizada\n",
        "\n",
        "print(\"\\n--- Tarjeta de Presentación ---\")\n",
        "print(\"Nombre completo:\", nombre, apellido)\n",
        "print(\"Edad:\", edad, \"años\")\n",
        "print(\"Correo electrónico:\", email)\n",
        "print(\"-------------------------------\")\n"
      ]
    },
    {
      "cell_type": "markdown",
      "metadata": {
        "id": "2S77V8DyDcNw"
      },
      "source": [
        "🎉 ¡Muy bien! Este pequeño programa combina todo lo que aprendiste hasta ahora:\n",
        "\n",
        "- Variables\n",
        "- `input()` para recibir datos\n",
        "- `int()` para convertir a número\n",
        "- `print()` para mostrar el resultado\n",
        "\n",
        "Es tu primer ejemplo real de un programa con **Entrada → Proceso → Salida**.\n",
        "\n",
        "🧪 Experimentá: cambiá los textos, sumá más líneas, modificá el diseño. ¡Es tu código!\n"
      ]
    },
    {
      "cell_type": "markdown",
      "metadata": {
        "id": "tjeTnJgjDmEV"
      },
      "source": [
        "# 🧠 Lo que aprendiste\n",
        "\n",
        "En esta clase conociste herramientas fundamentales de la programación:\n",
        "\n",
        "- Las **variables**, que permiten almacenar información y usarla después.\n",
        "- Los **tipos de datos básicos**: texto (`str`), números (`int`, `float`) y valores lógicos (`bool`).\n",
        "- Las funciones `print()` e `input()`, que permiten **interactuar con la persona que usa el programa**.\n",
        "- Cómo convertir datos entre tipos usando `int()`, `float()` y `str()`.\n",
        "- Qué significa el modelo **Entrada → Proceso → Salida** en la práctica.\n",
        "\n",
        "Además, escribiste tu primer programa completo que recibe datos, los guarda y los presenta de forma ordenada. ¡Eso es mucho más que una simple línea de código!\n",
        "\n",
        "---\n",
        "\n",
        "Nos vemos en el próximo cuaderno. ¡Seguí explorando y probando! 🚀\n"
      ]
    }
  ],
  "metadata": {
    "colab": {
      "provenance": []
    },
    "kernelspec": {
      "display_name": "Python 3",
      "name": "python3"
    },
    "language_info": {
      "codemirror_mode": {
        "name": "ipython",
        "version": 3
      },
      "file_extension": ".py",
      "mimetype": "text/x-python",
      "name": "python",
      "nbconvert_exporter": "python",
      "pygments_lexer": "ipython3",
      "version": "3.13.7"
    }
  },
  "nbformat": 4,
  "nbformat_minor": 0
}
